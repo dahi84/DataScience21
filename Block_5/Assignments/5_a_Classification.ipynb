{
 "cells": [
  {
   "cell_type": "markdown",
   "metadata": {},
   "source": [
    "# Block 5 Exercise 1: Classification"
   ]
  },
  {
   "cell_type": "markdown",
   "metadata": {},
   "source": [
    "## MNIST Data\n",
    "In these exercises we are using the MNIST data set on handwritten digits to compare supervised classification algorithms...   "
   ]
  },
  {
   "cell_type": "code",
   "execution_count": 1,
   "metadata": {},
   "outputs": [],
   "source": [
    "#imports \n",
    "import matplotlib.pyplot as plt\n",
    "import numpy as np\n",
    "from sklearn.datasets import fetch_openml\n",
    "from sklearn.model_selection import train_test_split"
   ]
  },
  {
   "cell_type": "code",
   "execution_count": 2,
   "metadata": {},
   "outputs": [],
   "source": [
    "# Load data from https://www.openml.org/d/554\n",
    "X, y = fetch_openml('mnist_784', version=1, return_X_y=True)\n"
   ]
  },
  {
   "cell_type": "code",
   "execution_count": 3,
   "metadata": {},
   "outputs": [
    {
     "data": {
      "text/plain": [
       "(70000, 784)"
      ]
     },
     "execution_count": 3,
     "metadata": {},
     "output_type": "execute_result"
    }
   ],
   "source": [
    "#the full MNIST data set contains 70k samples of digits 0-9 as 28*28 gray scale images (represented as 784 dim vectors)\n",
    "np.shape(X)"
   ]
  },
  {
   "cell_type": "markdown",
   "metadata": {},
   "source": [
    "### E1.1: Use SkLearn methods to split the MNIST data into random train and test sets. Use 60k samples for training.  \n"
   ]
  },
  {
   "cell_type": "code",
   "execution_count": 35,
   "metadata": {},
   "outputs": [
    {
     "name": "stdout",
     "output_type": "stream",
     "text": [
      "(60000, 784)\n",
      "(10000, 784)\n"
     ]
    },
    {
     "data": {
      "text/plain": [
       "numpy.ndarray"
      ]
     },
     "execution_count": 35,
     "metadata": {},
     "output_type": "execute_result"
    }
   ],
   "source": [
    "X_train, X_test, y_train, y_test = train_test_split(X, y, test_size=10000, random_state=42)\n",
    "print(X_train.shape)\n",
    "print(X_test.shape)"
   ]
  },
  {
   "cell_type": "markdown",
   "metadata": {},
   "source": [
    "### E1.2: Visualize the data.\n",
    "* Plot some data samples as images (use https://matplotlib.org/3.1.0/api/_as_gen/matplotlib.pyplot.imshow.html)"
   ]
  },
  {
   "cell_type": "code",
   "execution_count": 33,
   "metadata": {},
   "outputs": [
    {
     "data": {
      "text/plain": [
       "<matplotlib.image.AxesImage at 0x26096b3afc8>"
      ]
     },
     "execution_count": 33,
     "metadata": {},
     "output_type": "execute_result"
    },
    {
     "data": {
      "image/png": "[encoded data removed]",
      "text/plain": [
       "<Figure size 432x288 with 1 Axes>"
      ]
     },
     "metadata": {
      "needs_background": "light"
     },
     "output_type": "display_data"
    }
   ],
   "source": [
    "img=X[0].reshape(28,28)\n",
    "plt.imshow(img, cmap=\"gray\")"
   ]
  },
  {
   "cell_type": "markdown",
   "metadata": {},
   "source": [
    "### E1.3: Train models on the train data.\n",
    "Train the following models with default parameters on the train data.\n",
    "* [Naive Bayes](https://scikit-learn.org/stable/modules/generated/sklearn.naive_bayes.GaussianNB.html#sklearn.naive_bayes.GaussianNB) (assuming a Gaussian distribution of the data)\n",
    "* [Simple linear model](https://scikit-learn.org/stable/modules/generated/sklearn.linear_model.SGDClassifier.html#sklearn.linear_model.SGDClassifier)\n",
    "   * use ``loss='log'`` to reproduce our logistic loss function \n",
    "* [Random Forest](https://scikit-learn.org/stable/modules/generated/sklearn.ensemble.RandomForestClassifier.html#sklearn.ensemble.RandomForestClassifier)\n",
    "\n",
    "Compare the training accuracy (https://scikit-learn.org/stable/modules/generated/sklearn.metrics.accuracy_score.html#sklearn.metrics.accuracy_score) and [confusion matrix](https://scikit-learn.org/stable/modules/generated/sklearn.metrics.confusion_matrix.html#sklearn.metrics.confusion_matrix) for all three models."
   ]
  },
  {
   "cell_type": "code",
   "execution_count": 39,
   "metadata": {},
   "outputs": [
    {
     "data": {
      "text/plain": [
       "10"
      ]
     },
     "execution_count": 39,
     "metadata": {},
     "output_type": "execute_result"
    }
   ],
   "source": [
    "from sklearn.metrics import accuracy_score\n",
    "from sklearn.metrics import confusion_matrix\n",
    "#from sklearn.metrics import plot_confusion_matrix\n",
    "class_names = ['0','1','2','3','4','5','6','7','8','9']\n",
    "n_classes = len(class_names)"
   ]
  },
  {
   "cell_type": "markdown",
   "metadata": {},
   "source": [
    "### Naive Bayes"
   ]
  },
  {
   "cell_type": "code",
   "execution_count": 22,
   "metadata": {},
   "outputs": [
    {
     "name": "stdout",
     "output_type": "stream",
     "text": [
      "accuracy GaussianNB: 0.5571666666666667\n",
      "Wall time: 6.78 s\n"
     ]
    },
    {
     "data": {
      "text/plain": [
       "array([[5319,    9,   32,   20,    9,   13,  187,    2,  209,  120],\n",
       "       [   2, 6327,   15,   28,    3,   12,   83,    2,  169,   84],\n",
       "       [ 498,  149, 1913,  373,   19,   29, 1549,   20, 1365,  108],\n",
       "       [ 363,  292,   56, 2186,    8,   14,  340,   47, 2093,  708],\n",
       "       [ 162,   35,   49,   35,  821,   46,  601,   32, 1220, 2917],\n",
       "       [ 635,  131,   31,  121,   21,  262,  312,   11, 3243,  609],\n",
       "       [  49,   90,   30,    2,    4,   23, 5592,    0,  118,    7],\n",
       "       [  25,   41,   10,   53,   42,    8,   21, 1803,  190, 4045],\n",
       "       [  93,  719,   32,   45,   14,   34,  103,    9, 3583, 1224],\n",
       "       [  34,   33,   14,   10,   27,    6,    4,   76,   94, 5624]],\n",
       "      dtype=int64)"
      ]
     },
     "execution_count": 22,
     "metadata": {},
     "output_type": "execute_result"
    }
   ],
   "source": [
    "%%time\n",
    "from sklearn.naive_bayes import GaussianNB\n",
    "clf_NB = GaussianNB()\n",
    "clf_NB.fit(X_train, y_train)\n",
    "y_pred = clf_NB.predict(X_train)\n",
    "print(\"accuracy GaussianNB:\", accuracy_score(y_train, y_pred))\n",
    "#plot_confusion_matrix(clf_NB, X_train, y_train,\n",
    "#                                 display_labels=class_names,\n",
    "#                                 cmap=plt.cm.Blues,\n",
    "#                                 normalize=normalize)\n",
    "confusion_matrix(y_train, y_pred)"
   ]
  },
  {
   "cell_type": "markdown",
   "metadata": {},
   "source": [
    "### Simple linar model"
   ]
  },
  {
   "cell_type": "code",
   "execution_count": 19,
   "metadata": {},
   "outputs": [
    {
     "name": "stderr",
     "output_type": "stream",
     "text": [
      "C:\\Users\\danie\\Anaconda3\\lib\\site-packages\\sklearn\\linear_model\\stochastic_gradient.py:561: ConvergenceWarning: Maximum number of iteration reached before convergence. Consider increasing max_iter to improve the fit.\n",
      "  ConvergenceWarning)\n"
     ]
    },
    {
     "name": "stdout",
     "output_type": "stream",
     "text": [
      "accuracy Simple linar model: 0.8759166666666667\n",
      "Wall time: 11.9 s\n"
     ]
    },
    {
     "data": {
      "text/plain": [
       "array([[5153,    1,  163,   12,   10,  284,   54,    4,  236,    3],\n",
       "       [   0, 6119,  154,    2,   10,   26,    4,   11,  342,   57],\n",
       "       [   3,    7, 5664,   26,   71,   36,   25,   50,  134,    7],\n",
       "       [  10,    7,  655, 4671,   12,  405,   18,   59,  184,   86],\n",
       "       [   1,   10,   59,    1, 5272,   34,   32,   16,  185,  308],\n",
       "       [  15,    8,   86,  121,   46, 4665,   53,   22,  316,   44],\n",
       "       [  13,   14,  232,    7,   46,  273, 5208,    9,  109,    4],\n",
       "       [  14,    4,  210,    8,   65,   34,    9, 5549,   51,  294],\n",
       "       [   5,   17,  287,   75,   20,  247,   21,   22, 5111,   51],\n",
       "       [  10,    7,   53,   51,  148,  100,    5,  193,  212, 5143]],\n",
       "      dtype=int64)"
      ]
     },
     "execution_count": 19,
     "metadata": {},
     "output_type": "execute_result"
    }
   ],
   "source": [
    "%%time\n",
    "from sklearn.linear_model import SGDClassifier\n",
    "clf_SL = SGDClassifier(max_iter = 10, loss='log')\n",
    "clf_SL.fit(X_train, y_train)\n",
    "y_pred = clf_SL.predict(X_train)\n",
    "print('accuracy Simple linar model:', accuracy_score(y_train, y_pred))\n",
    "confusion_matrix(y_train, y_pred)"
   ]
  },
  {
   "cell_type": "markdown",
   "metadata": {},
   "source": [
    "### Random Forest"
   ]
  },
  {
   "cell_type": "code",
   "execution_count": 21,
   "metadata": {},
   "outputs": [
    {
     "name": "stderr",
     "output_type": "stream",
     "text": [
      "C:\\Users\\danie\\Anaconda3\\lib\\site-packages\\sklearn\\ensemble\\forest.py:245: FutureWarning: The default value of n_estimators will change from 10 in version 0.20 to 100 in 0.22.\n",
      "  \"10 in version 0.20 to 100 in 0.22.\", FutureWarning)\n"
     ]
    },
    {
     "name": "stdout",
     "output_type": "stream",
     "text": [
      "accuracy Random Forest: 0.95005\n",
      "Wall time: 4.32 s\n"
     ]
    },
    {
     "data": {
      "text/plain": [
       "array([[5834,    2,    8,    4,    4,    7,   16,    1,   40,    4],\n",
       "       [   0, 6619,   26,   19,   10,   14,   16,   14,    5,    2],\n",
       "       [  22,   18, 5682,   40,   45,    8,   39,   86,   57,   26],\n",
       "       [   5,   29,   81, 5678,   12,   81,   11,   53,   88,   69],\n",
       "       [   8,   18,    8,    6, 5565,    4,   25,   18,   34,  232],\n",
       "       [  27,   31,   20,  104,   22, 4986,   54,    6,   61,   65],\n",
       "       [  24,   17,    7,    2,   12,   47, 5776,    0,   30,    0],\n",
       "       [   6,   48,   78,   12,   47,    3,    1, 5890,   17,  136],\n",
       "       [  11,   56,   34,   48,   35,   48,   27,    9, 5492,   96],\n",
       "       [  21,   26,   12,   93,  117,   29,    6,   93,   44, 5481]],\n",
       "      dtype=int64)"
      ]
     },
     "execution_count": 21,
     "metadata": {},
     "output_type": "execute_result"
    }
   ],
   "source": [
    "%%time\n",
    "from sklearn.ensemble import RandomForestClassifier\n",
    "clf_RF = RandomForestClassifier(max_depth=10, random_state=0)\n",
    "clf_RF.fit(X_train, y_train)\n",
    "y_pred = clf_RF.predict(X_train)\n",
    "print('accuracy Random Forest:', accuracy_score(y_train, y_pred))\n",
    "confusion_matrix(y_train, y_pred)"
   ]
  },
  {
   "cell_type": "markdown",
   "metadata": {},
   "source": [
    "### E1.4: Evaluate and compare the models on the test set.\n",
    "* compute the test [accuracy](https://scikit-learn.org/stable/modules/generated/sklearn.metrics.accuracy_score.html#sklearn.metrics.accuracy_score) \n",
    "* compute the [F-Measure](https://scikit-learn.org/stable/modules/generated/sklearn.metrics.f1_score.html#sklearn.metrics.f1_score)\n",
    "* plot a [ROC curves](https://scikit-learn.org/stable/modules/generated/sklearn.metrics.roc_curve.html#sklearn.metrics.roc_curve) for the class \"5\" for all three models.\n",
    "                          "
   ]
  },
  {
   "cell_type": "code",
   "execution_count": 66,
   "metadata": {},
   "outputs": [],
   "source": [
    "from sklearn.metrics import f1_score\n",
    "from sklearn.metrics import roc_curve, auc\n",
    "from sklearn.metrics import roc_auc_score"
   ]
  },
  {
   "cell_type": "markdown",
   "metadata": {},
   "source": [
    "### Naive Bayes"
   ]
  },
  {
   "cell_type": "code",
   "execution_count": 67,
   "metadata": {},
   "outputs": [
    {
     "name": "stdout",
     "output_type": "stream",
     "text": [
      "accuracy GaussianNB: 0.5604\n",
      "f1-score GaussianNB: 0.5092207842748325\n"
     ]
    }
   ],
   "source": [
    "y_pred = clf_NB.predict(X_test)\n",
    "print(\"accuracy GaussianNB:\", accuracy_score(y_test, y_pred))\n",
    "print(\"f1-score GaussianNB:\", f1_score(y_test, y_pred, average='macro'))"
   ]
  },
  {
   "cell_type": "markdown",
   "metadata": {},
   "source": [
    "### Simple linar model"
   ]
  },
  {
   "cell_type": "code",
   "execution_count": 68,
   "metadata": {},
   "outputs": [
    {
     "name": "stdout",
     "output_type": "stream",
     "text": [
      "accuracy Simple linar model: 0.8711\n",
      "f1-score Simple linar model: 0.8715561357966731\n"
     ]
    }
   ],
   "source": [
    "y_pred = clf_SL.predict(X_test)\n",
    "print('accuracy Simple linar model:', accuracy_score(y_test, y_pred))\n",
    "print('f1-score Simple linar model:', f1_score(y_test, y_pred, average='macro'))"
   ]
  },
  {
   "cell_type": "markdown",
   "metadata": {},
   "source": [
    "### Random Forest"
   ]
  },
  {
   "cell_type": "code",
   "execution_count": 69,
   "metadata": {},
   "outputs": [
    {
     "name": "stdout",
     "output_type": "stream",
     "text": [
      "accuracy Random Forest: 0.9233\n",
      "f1-score Random Forest: 0.9225139193874237\n"
     ]
    }
   ],
   "source": [
    "y_pred = clf_RF.predict(X_test)\n",
    "print('accuracy Random Forest:', accuracy_score(y_test, y_pred))\n",
    "print('f1-score Random Forest:', f1_score(y_test, y_pred, average='macro'))"
   ]
  },
  {
   "cell_type": "code",
   "execution_count": null,
   "metadata": {},
   "outputs": [],
   "source": []
  }
 ],
 "metadata": {
  "kernelspec": {
   "display_name": "Python 3",
   "language": "python",
   "name": "python3"
  },
  "language_info": {
   "codemirror_mode": {
    "name": "ipython",
    "version": 3
   },
   "file_extension": ".py",
   "mimetype": "text/x-python",
   "name": "python",
   "nbconvert_exporter": "python",
   "pygments_lexer": "ipython3",
   "version": "3.7.4"
  }
 },
 "nbformat": 4,
 "nbformat_minor": 4
}
