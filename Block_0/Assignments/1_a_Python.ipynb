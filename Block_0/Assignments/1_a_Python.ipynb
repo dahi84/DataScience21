{
 "cells": [
  {
   "cell_type": "markdown",
   "metadata": {},
   "source": [
    "# Exercise I: Your own Python module "
   ]
  },
  {
<<<<<<< HEAD
   "cell_type": "code",
   "execution_count": 1,
   "metadata": {},
   "outputs": [
    {
     "name": "stdout",
     "output_type": "stream",
     "text": [
      "running in Colab: False\n"
     ]
    }
   ],
   "source": [
    "#check if notebook runs in colab\n",
    "import sys\n",
    "IN_COLAB = 'google.colab' in sys.modules\n",
    "print('running in Colab:',IN_COLAB)\n",
    "path='..'\n",
    "if IN_COLAB:\n",
    "  #in colab, we need to clone the data from the repo\n",
    "  !git clone https://github.com/keuperj/DataScienceSS20.git\n",
    "  path='DataScienceSS20'\n",
    "  import sys\n",
    "  sys.path.append(path+'/Exercises/')"
   ]
  },
  {
=======
>>>>>>> 6443dc91705e81a98b2b14602033e4ad101a3fa0
   "cell_type": "markdown",
   "metadata": {},
   "source": [
    "Write your own python module (choose a name) with the following properties:\n",
    "\n",
    "1. start new python file for the module\n",
    "2. define a class ***ListKeeper*** with the following properties and API:\n",
    "   1. ***Listkeeper*** strores named lists (hint: use dictionaries) \n",
    "   2. it initializes with a list named *example*: [1,2,3,4,5]\n",
    "   3. ``show()`` returns all list names\n",
    "   4. ``add(name, list)`` adds a new list\n",
    "   5. ``delete(name)`` deletes list\n",
    "   6. ``sort(name)`` returns the sorted list *name*\n",
    "   7. ``append(name, list)`` appends *list* to *name* \n",
    "3. add comments and documentation to your class\n",
    "4. Import your module in this notebook\n",
    "5. write tests to check the functionality of your class "
   ]
  },
  {
   "cell_type": "code",
   "execution_count": 2,
   "metadata": {},
   "outputs": [],
   "source": [
    "#load the autoreload extension\n",
    "%load_ext autoreload\n",
    "# Set extension to reload modules every time before executing code\n",
    "%autoreload 2"
   ]
  },
  {
   "cell_type": "markdown",
   "metadata": {},
   "source": [
    "***\n",
    "Program Name: ListKeeper - Block 0\n",
    "\n",
    "Author: Daniel Hin 181379 MMR\n",
    "\n",
    "Date: 22.03.2021\n",
    "\n",
    "Purpose: Assignment 1\n",
    "\n",
    "Description: Class ListKeeper stores named lists\n",
    "***"
   ]
  },
  {
   "cell_type": "code",
   "execution_count": 17,
   "metadata": {},
   "outputs": [],
   "source": [
    "import ListKeeperModule\n",
    "lstk = ListKeeperModule.ListKeeper()"
   ]
  },
  {
   "cell_type": "markdown",
   "metadata": {},
   "source": [
    "## Tests for functionality checks\n",
    "#### Task C - Method show()"
   ]
  },
  {
   "cell_type": "code",
   "execution_count": 18,
   "metadata": {},
   "outputs": [
    {
     "name": "stdout",
     "output_type": "stream",
     "text": [
      "['example']\n"
     ]
    }
   ],
   "source": [
    "all_names = lstk.show()\n",
    "print(all_names)"
   ]
  },
  {
   "cell_type": "markdown",
   "metadata": {},
   "source": [
    "#### Task E - Method add()"
   ]
  },
  {
   "cell_type": "code",
   "execution_count": 19,
   "metadata": {},
   "outputs": [
    {
     "name": "stdout",
     "output_type": "stream",
     "text": [
      "{'names': ['example', 'money', 'salary', 'lengths', 'age'], 'lists': [[1, 2, 3, 4, 5], [200, 8000, 400, 500], [2000, 3000, 4400, 1200, 6000, 450], [1900, 1620, 1000, 110, 200, 4000, 3000], [25, 30, 19, 45, 23, 35, 34, 2, 44, 99, 20]]}\n"
     ]
    }
   ],
   "source": [
    "lstk.add('money', [200,8000,400,500])\n",
    "lstk.add('salary', [2000,3000,4400,1200,6000,450])\n",
    "lstk.add('lengths', [1900,1620,1000,110,200,4000,3000])\n",
    "lstk.add('age',[25,30,19,45,23,35,34,2,44,99,20])\n",
    "lstk.print_dict()"
   ]
  },
  {
   "cell_type": "markdown",
   "metadata": {},
   "source": [
    "#### Task D - Method delet()"
   ]
  },
  {
   "cell_type": "code",
   "execution_count": 20,
   "metadata": {},
   "outputs": [
    {
     "name": "stdout",
     "output_type": "stream",
     "text": [
      "{'names': ['money', 'salary', 'lengths', 'age'], 'lists': [[200, 8000, 400, 500], [2000, 3000, 4400, 1200, 6000, 450], [1900, 1620, 1000, 110, 200, 4000, 3000], [25, 30, 19, 45, 23, 35, 34, 2, 44, 99, 20]]}\n"
     ]
    }
   ],
   "source": [
    "lstk.delet('example')\n",
    "lstk.print_dict()"
   ]
  },
  {
   "cell_type": "code",
   "execution_count": 21,
   "metadata": {},
   "outputs": [
    {
     "name": "stdout",
     "output_type": "stream",
     "text": [
      "['money', 'salary', 'lengths', 'age']\n"
     ]
    }
   ],
   "source": [
    "#check task C again -> method show()\n",
    "all_names = lstk.show()\n",
    "print(all_names)"
   ]
  },
  {
   "cell_type": "markdown",
   "metadata": {},
   "source": [
    "#### Task F - Method sort()"
   ]
  },
  {
   "cell_type": "code",
   "execution_count": 22,
   "metadata": {},
   "outputs": [
    {
     "name": "stdout",
     "output_type": "stream",
     "text": [
      "[450, 1200, 2000, 3000, 4400, 6000]\n",
      "[2, 19, 20, 23, 25, 30, 34, 35, 44, 45, 99]\n"
     ]
    }
   ],
   "source": [
    "sort_list = lstk.sort('salary')\n",
    "sort_list2 = lstk.sort('age')\n",
    "print(sort_list)\n",
    "print(sort_list2)"
   ]
  },
  {
   "cell_type": "markdown",
   "metadata": {},
   "source": [
    "#### Task G - Method append()"
   ]
  },
  {
   "cell_type": "code",
   "execution_count": 23,
   "metadata": {},
   "outputs": [
    {
     "name": "stdout",
     "output_type": "stream",
     "text": [
      "{'names': ['money', 'salary', 'lengths', 'age'], 'lists': [[200, 8000, 400, 500], [450, 1200, 2000, 3000, 4400, 6000, 4444, 5555, 6666], [1900, 1620, 1000, 110, 200, 4000, 3000], [2, 19, 20, 23, 25, 30, 34, 35, 44, 45, 99]]}\n"
     ]
    }
   ],
   "source": [
    "lstk.append('salary',[4444,5555,6666])\n",
    "lstk.print_dict()"
   ]
  },
  {
   "cell_type": "code",
   "execution_count": null,
   "metadata": {},
   "outputs": [],
   "source": []
  }
 ],
 "metadata": {
  "kernelspec": {
   "display_name": "Python 3",
   "language": "python",
   "name": "python3"
  },
  "language_info": {
   "codemirror_mode": {
    "name": "ipython",
    "version": 3
   },
   "file_extension": ".py",
   "mimetype": "text/x-python",
   "name": "python",
   "nbconvert_exporter": "python",
   "pygments_lexer": "ipython3",
   "version": "3.7.4"
  }
 },
 "nbformat": 4,
 "nbformat_minor": 4
}
