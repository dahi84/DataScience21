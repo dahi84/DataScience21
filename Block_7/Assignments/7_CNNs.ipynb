{
  "nbformat": 4,
  "nbformat_minor": 0,
  "metadata": {
    "colab": {
      "name": "Exercise_2 .ipynb",
      "provenance": []
    },
    "kernelspec": {
      "display_name": "Python 3",
      "language": "python",
      "name": "python3"
    },
    "language_info": {
      "codemirror_mode": {
        "name": "ipython",
        "version": 3
      },
      "file_extension": ".py",
      "mimetype": "text/x-python",
      "name": "python",
      "nbconvert_exporter": "python",
      "pygments_lexer": "ipython3",
      "version": "3.7.4"
    },
    "accelerator": "GPU"
  },
  "cells": [
    {
      "cell_type": "markdown",
      "metadata": {
        "id": "NgYV9F8IE2L_"
      },
      "source": [
        "# Assignment - Image Classification with CNNs\n",
        "![CIFAR10](https://miro.medium.com/max/964/1*syyml8q8s1Yt-iEea5m1Ag.png)\n",
        "\n",
        "[CIFAR 10](https://www.cs.toronto.edu/~kriz/cifar.html) is a small toy data set for image classifaction. \n",
        "\n",
        "* It has 60k images from ten diffenrent classes (like car, airplane, horse,..)\n",
        "* The RGB images are of size 32x32 pixels  "
      ]
    },
    {
      "cell_type": "code",
      "metadata": {
        "colab": {
          "base_uri": "https://localhost:8080/"
        },
        "id": "GiDFXXcUEy-G",
        "outputId": "70312fc1-68d4-4c7b-e5ef-53ca8e19b143"
      },
      "source": [
        "#import needed libs\n",
        "from __future__ import print_function\n",
        "import keras\n",
        "from keras.datasets import cifar10\n",
        "from keras.preprocessing.image import ImageDataGenerator\n",
        "from keras.models import Sequential\n",
        "from keras.layers import Dense, Dropout, Activation, Flatten\n",
        "from keras.layers import Conv2D, MaxPooling2D\n",
        "import os\n",
        "\n",
        "#some vars to controll the training -> use them in your code\n",
        "batch_size = 32\n",
        "num_classes = 10 #fixed!\n",
        "epochs = 10\n",
        "\n",
        "# Get the data, split between train and test sets:\n",
        "(x_train, y_train), (x_test, y_test) = cifar10.load_data()\n",
        "print('x_train shape:', x_train.shape)\n",
        "print(x_train.shape[0], 'train samples')\n",
        "print(x_test.shape[0], 'test samples')\n",
        "\n",
        "# Convert class vectors to binary class matrices.\n",
        "y_train = keras.utils.to_categorical(y_train, num_classes)\n",
        "y_test = keras.utils.to_categorical(y_test, num_classes)"
      ],
      "execution_count": 2,
      "outputs": [
        {
          "output_type": "stream",
          "text": [
            "Downloading data from https://www.cs.toronto.edu/~kriz/cifar-10-python.tar.gz\n",
            "170500096/170498071 [==============================] - 4s 0us/step\n",
            "x_train shape: (50000, 32, 32, 3)\n",
            "50000 train samples\n",
            "10000 test samples\n"
          ],
          "name": "stdout"
        }
      ]
    },
    {
      "cell_type": "markdown",
      "metadata": {
        "id": "vmocaCkIGOIR"
      },
      "source": [
        "## Task:\n",
        "* visualize some sample images from different classes\n",
        "* build and train the ***AlexNet*** CNN architecture from the lecture, use the following Keras layers:\n",
        "    * overview: https://keras.io/api/layers/\n",
        "    * 2d convolution: https://keras.io/api/layers/convolution_layers/convolution2d/\n",
        "    * Fully Connected (=Matrix Multiplication MLP): https://keras.io/api/layers/core_layers/dense/\n",
        "    * Pooling: https://keras.io/api/layers/pooling_layers/max_pooling2d/   \n",
        "* use 'relu' functions for the non-linear activation -> https://keras.io/api/layers/activation_layers/relu/\n",
        "* optimize the learning hyper-paramters to get the best  test accuracy"
      ]
    },
    {
      "cell_type": "markdown",
      "metadata": {
        "id": "qMwCSro2iLUr"
      },
      "source": [
        "Visualization"
      ]
    },
    {
      "cell_type": "code",
      "metadata": {
        "colab": {
          "base_uri": "https://localhost:8080/",
          "height": 269
        },
        "id": "9p5AD8mJEzmL",
        "outputId": "51049ea9-d764-4cb5-e820-9ea05b3c6a8f"
      },
      "source": [
        "import matplotlib.pyplot as plt\n",
        "import numpy as np\n",
        "\n",
        "fig, axes = plt.subplots(2,3)\n",
        "axes.axis('off')\n",
        "i = 0\n",
        "\n",
        "#for ax in axes:\n",
        "img = x_train[i]\n",
        "plt.imshow(img)\n",
        "i = i+1\n",
        " \n",
        "plt.show()\n",
        "\n"
      ],
      "execution_count": 14,
      "outputs": [
        {
          "output_type": "display_data",
          "data": {
            "image/png": "[encoded data removed]",
            "text/plain": [
              "<Figure size 432x288 with 6 Axes>"
            ]
          },
          "metadata": {
            "tags": [],
            "needs_background": "light"
          }
        }
      ]
    },
    {
      "cell_type": "markdown",
      "metadata": {
        "id": "arD16skGlVh1"
      },
      "source": [
        "Training with **ALexNet**"
      ]
    },
    {
      "cell_type": "code",
      "metadata": {
        "id": "arePxswuldCR"
      },
      "source": [
        "# Get the data as Numpy arrays\n",
        "(x_train, y_train), (x_test, y_test) = keras.datasets.mnist.load_data()\n",
        "\n",
        "# Build a simple model\n",
        "inputs = keras.Input(shape=(28, 28))\n",
        "l1 = layers.experimental.preprocessing.Rescaling(1.0 / 255)(inputs)\n",
        "l2 = layers.Flatten()(l1)\n",
        "l3 = layers.Dense(128, activation=\"tanh\")(l2)\n",
        "l4 = layers.Dense(128, activation=\"tanh\")(l3)\n",
        "outputs = layers.Dense(10, activation=\"softmax\")(l4)\n",
        "model = keras.Model(inputs, outputs)\n",
        "model.summary()\n",
        "\n",
        "# Compile the model\n",
        "model.compile(optimizer=\"adam\", loss=\"sparse_categorical_crossentropy\")\n",
        "\n",
        "# Train the model for 1 epoch from Numpy data\n",
        "batch_size = 64\n",
        "print(\"Fit on NumPy data\")\n",
        "history = model.fit(x_train, y_train, batch_size=batch_size, epochs=1)\n",
        "\n",
        "# Train the model for 1 epoch using a dataset\n",
        "dataset = tf.data.Dataset.from_tensor_slices((x_train, y_train)).batch(batch_size)\n",
        "print(\"Fit on Dataset\")\n",
        "history = model.fit(dataset, epochs=1)"
      ],
      "execution_count": null,
      "outputs": []
    },
    {
      "cell_type": "markdown",
      "metadata": {
        "id": "pqNi4EQhzjaQ"
      },
      "source": [
        "### Evaluation"
      ]
    },
    {
      "cell_type": "code",
      "metadata": {
        "id": "vImOKBh5zfSG"
      },
      "source": [
        "#evaluation\n",
        "scores = model.evaluate(x_test, y_test, verbose=1)\n",
        "print('Test loss:', scores[0])\n",
        "print('Test accuracy:', scores[1])\n"
      ],
      "execution_count": null,
      "outputs": []
    }
  ]
}