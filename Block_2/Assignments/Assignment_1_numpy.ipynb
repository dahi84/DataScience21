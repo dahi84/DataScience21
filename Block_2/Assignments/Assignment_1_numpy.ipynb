{
 "cells": [
  {
   "cell_type": "markdown",
   "metadata": {},
   "source": [
    "# Assignment 1: Numpy"
   ]
  },
  {
   "cell_type": "markdown",
   "metadata": {},
   "source": [
    "Perform the follwing tasks:\n"
   ]
  },
  {
   "cell_type": "code",
   "execution_count": 1,
   "metadata": {},
   "outputs": [],
   "source": [
    "#3.1: import the numpy library"
   ]
  },
  {
   "cell_type": "code",
   "execution_count": 122,
   "metadata": {},
   "outputs": [],
   "source": [
    "import numpy as np"
   ]
  },
  {
   "cell_type": "code",
   "execution_count": 123,
   "metadata": {},
   "outputs": [],
   "source": [
    "#3.2: create a random 10x10 array named A"
   ]
  },
  {
   "cell_type": "code",
   "execution_count": 124,
   "metadata": {},
   "outputs": [
    {
     "data": {
      "text/plain": [
       "array([[0.09543929, 0.82178333, 0.82561193, 0.49984949, 0.31082127],\n",
       "       [0.32197879, 0.18079175, 0.13091039, 0.35686214, 0.221893  ],\n",
       "       [0.47074758, 0.05613   , 0.00141736, 0.34475858, 0.43411337],\n",
       "       [0.17140333, 0.31093195, 0.96612744, 0.20821836, 0.48449493],\n",
       "       [0.24822932, 0.23445671, 0.37778287, 0.13055619, 0.72401538]])"
      ]
     },
     "execution_count": 124,
     "metadata": {},
     "output_type": "execute_result"
    }
   ],
   "source": [
    "A = np.random.rand(5,5)\n",
    "A"
   ]
  },
  {
   "cell_type": "code",
   "execution_count": 125,
   "metadata": {},
   "outputs": [],
   "source": [
    "#3.3: return only the odd rows of A"
   ]
  },
  {
   "cell_type": "code",
   "execution_count": 126,
   "metadata": {},
   "outputs": [
    {
     "data": {
      "text/plain": [
       "array([[0.09543929, 0.82178333, 0.82561193, 0.49984949, 0.31082127],\n",
       "       [0.47074758, 0.05613   , 0.00141736, 0.34475858, 0.43411337],\n",
       "       [0.24822932, 0.23445671, 0.37778287, 0.13055619, 0.72401538]])"
      ]
     },
     "execution_count": 126,
     "metadata": {},
     "output_type": "execute_result"
    }
   ],
   "source": [
    "odd_rows_A = A[::2]\n",
    "odd_rows_A"
   ]
  },
  {
   "cell_type": "code",
   "execution_count": 127,
   "metadata": {},
   "outputs": [
    {
     "data": {
      "text/plain": [
       "array([[0.09543929, 0.32197879, 0.47074758, 0.17140333, 0.24822932],\n",
       "       [0.82178333, 0.18079175, 0.05613   , 0.31093195, 0.23445671],\n",
       "       [0.82561193, 0.13091039, 0.00141736, 0.96612744, 0.37778287],\n",
       "       [0.49984949, 0.35686214, 0.34475858, 0.20821836, 0.13055619],\n",
       "       [0.31082127, 0.221893  , 0.43411337, 0.48449493, 0.72401538]])"
      ]
     },
     "execution_count": 127,
     "metadata": {},
     "output_type": "execute_result"
    }
   ],
   "source": [
    "#3.4: perform a matrix multiplication of A with it's transposed\n",
    "A.T"
   ]
  },
  {
   "cell_type": "code",
   "execution_count": 128,
   "metadata": {},
   "outputs": [
    {
     "data": {
      "text/plain": [
       "array([[9.10865839e-03, 2.64596804e-01, 3.88654813e-01, 8.56758653e-02,\n",
       "        7.71549523e-02],\n",
       "       [2.64596804e-01, 3.26856583e-02, 7.34800017e-03, 1.10959842e-01,\n",
       "        5.20243049e-02],\n",
       "       [3.88654813e-01, 7.34800017e-03, 2.00890532e-06, 3.33080728e-01,\n",
       "        1.64000592e-01],\n",
       "       [8.56758653e-02, 1.10959842e-01, 3.33080728e-01, 4.33548865e-02,\n",
       "        6.32538129e-02],\n",
       "       [7.71549523e-02, 5.20243049e-02, 1.64000592e-01, 6.32538129e-02,\n",
       "        5.24198272e-01]])"
      ]
     },
     "execution_count": 128,
     "metadata": {},
     "output_type": "execute_result"
    }
   ],
   "source": [
    "A_AT = A*A.T\n",
    "A_AT"
   ]
  },
  {
   "cell_type": "code",
   "execution_count": 129,
   "metadata": {},
   "outputs": [
    {
     "data": {
      "text/plain": [
       "array([[  78.48012838, -339.37707079,  264.77115522,   17.75906163,\n",
       "        -100.31937078],\n",
       "       [  48.45115646, -202.51037797,  156.22845523,    8.53276757,\n",
       "         -58.11887114],\n",
       "       [   2.11319126,  -10.79180436,    8.27924854,    2.27801378,\n",
       "          -4.08833505],\n",
       "       [ -77.66623723,  336.68230304, -259.59345474,  -16.82498262,\n",
       "          97.06627679],\n",
       "       [ -29.69451751,  126.85401496,  -98.87773422,   -7.00658239,\n",
       "          39.22633322]])"
      ]
     },
     "execution_count": 129,
     "metadata": {},
     "output_type": "execute_result"
    }
   ],
   "source": [
    "#3.5: compute the matrix inverse of A\n",
    "B = np.copy(A)\n",
    "A_Inv = np.linalg.inv(A)\n",
    "A_Inv"
   ]
  },
  {
   "cell_type": "code",
   "execution_count": 130,
   "metadata": {},
   "outputs": [],
   "source": [
    "#3.6: divide all entries of A which are lager than 0.5 by 2 (hint: use where() )"
   ]
  },
  {
   "cell_type": "code",
   "execution_count": 131,
   "metadata": {},
   "outputs": [
    {
     "name": "stdout",
     "output_type": "stream",
     "text": [
      "[[0.09543929 0.82178333 0.82561193 0.49984949 0.31082127]\n",
      " [0.32197879 0.18079175 0.13091039 0.35686214 0.221893  ]\n",
      " [0.47074758 0.05613    0.00141736 0.34475858 0.43411337]\n",
      " [0.17140333 0.31093195 0.96612744 0.20821836 0.48449493]\n",
      " [0.24822932 0.23445671 0.37778287 0.13055619 0.72401538]]\n",
      "(array([0, 0, 3, 4], dtype=int64), array([1, 2, 2, 4], dtype=int64))\n",
      "[[0.09543929 0.41089166 0.41280596 0.49984949 0.31082127]\n",
      " [0.32197879 0.18079175 0.13091039 0.35686214 0.221893  ]\n",
      " [0.47074758 0.05613    0.00141736 0.34475858 0.43411337]\n",
      " [0.17140333 0.31093195 0.48306372 0.20821836 0.48449493]\n",
      " [0.24822932 0.23445671 0.37778287 0.13055619 0.36200769]]\n"
     ]
    }
   ],
   "source": [
    "indices = np.where(A>0.5)\n",
    "print(A)\n",
    "for n in range(indices[0][0:].size):\n",
    "    A[indices[0][n],indices[1][n]] = A[indices[0][n],indices[1][n]]/2\n",
    "print(indices)    \n",
    "print(A)\n"
   ]
  },
  {
   "cell_type": "code",
   "execution_count": null,
   "metadata": {},
   "outputs": [],
   "source": []
  },
  {
   "cell_type": "code",
   "execution_count": null,
   "metadata": {},
   "outputs": [],
   "source": []
  }
 ],
 "metadata": {
  "kernelspec": {
   "display_name": "Python 3",
   "language": "python",
   "name": "python3"
  },
  "language_info": {
   "codemirror_mode": {
    "name": "ipython",
    "version": 3
   },
   "file_extension": ".py",
   "mimetype": "text/x-python",
   "name": "python",
   "nbconvert_exporter": "python",
   "pygments_lexer": "ipython3",
   "version": "3.7.4"
  }
 },
 "nbformat": 4,
 "nbformat_minor": 4
}
